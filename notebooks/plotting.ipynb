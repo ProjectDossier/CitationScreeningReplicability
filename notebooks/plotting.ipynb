{
 "cells": [
  {
   "cell_type": "code",
   "execution_count": 1,
   "id": "nutritional-robin",
   "metadata": {},
   "outputs": [],
   "source": [
    "import pandas as pd\n",
    "import seaborn as sns\n",
    "import matplotlib.pyplot as plt"
   ]
  },
  {
   "cell_type": "markdown",
   "id": "b94fe6c3",
   "metadata": {
    "pycharm": {
     "name": "#%% md\n"
    }
   },
   "source": [
    "# Plot model train time"
   ]
  },
  {
   "cell_type": "code",
   "execution_count": 2,
   "id": "north-going",
   "metadata": {},
   "outputs": [],
   "source": [
    "df = pd.read_csv(\"../reports/results-time.csv\")"
   ]
  },
  {
   "cell_type": "code",
   "execution_count": 3,
   "id": "united-gambling",
   "metadata": {},
   "outputs": [
    {
     "data": {
      "text/plain": [
       "Index(['Datset name', 'DAE time', 'CNN time', 'FT time', 'DAE/FT', 'CNN/FT',\n",
       "       'Size'],\n",
       "      dtype='object')"
      ]
     },
     "execution_count": 3,
     "metadata": {},
     "output_type": "execute_result"
    }
   ],
   "source": [
    "df.columns"
   ]
  },
  {
   "cell_type": "code",
   "execution_count": 4,
   "id": "equivalent-prison",
   "metadata": {},
   "outputs": [],
   "source": [
    "# drop rows with averaged results, rename columns and melt variables\n",
    "time_df= df.drop([15, 19, 25,26])[['Datset name', 'Size', 'DAE time', 'CNN time', 'FT time']].rename(columns={'DAE time':'DAE-FF', 'CNN time':'Multi-Channel CNN', 'FT time':'fastText classifier'}).melt(id_vars=['Datset name', 'Size'], value_vars=['DAE-FF', 'Multi-Channel CNN', 'fastText classifier']).dropna()"
   ]
  },
  {
   "cell_type": "code",
   "execution_count": 5,
   "id": "serial-jaguar",
   "metadata": {},
   "outputs": [],
   "source": [
    "time_df = time_df.rename(columns={'value':'Training time [s]', 'Size':'Dataset size', 'variable':'Model name'})"
   ]
  },
  {
   "cell_type": "code",
   "execution_count": 6,
   "id": "coordinate-secretariat",
   "metadata": {},
   "outputs": [
    {
     "data": {
      "text/html": [
       "<div>\n",
       "<style scoped>\n",
       "    .dataframe tbody tr th:only-of-type {\n",
       "        vertical-align: middle;\n",
       "    }\n",
       "\n",
       "    .dataframe tbody tr th {\n",
       "        vertical-align: top;\n",
       "    }\n",
       "\n",
       "    .dataframe thead th {\n",
       "        text-align: right;\n",
       "    }\n",
       "</style>\n",
       "<table border=\"1\" class=\"dataframe\">\n",
       "  <thead>\n",
       "    <tr style=\"text-align: right;\">\n",
       "      <th></th>\n",
       "      <th>Datset name</th>\n",
       "      <th>Dataset size</th>\n",
       "      <th>Model name</th>\n",
       "      <th>Training time [s]</th>\n",
       "    </tr>\n",
       "  </thead>\n",
       "  <tbody>\n",
       "    <tr>\n",
       "      <th>0</th>\n",
       "      <td>ACEInhibitors</td>\n",
       "      <td>2544.0</td>\n",
       "      <td>DAE-FF</td>\n",
       "      <td>400</td>\n",
       "    </tr>\n",
       "    <tr>\n",
       "      <th>1</th>\n",
       "      <td>ADHD</td>\n",
       "      <td>851.0</td>\n",
       "      <td>DAE-FF</td>\n",
       "      <td>102</td>\n",
       "    </tr>\n",
       "    <tr>\n",
       "      <th>2</th>\n",
       "      <td>Antihistamines</td>\n",
       "      <td>310.0</td>\n",
       "      <td>DAE-FF</td>\n",
       "      <td>37</td>\n",
       "    </tr>\n",
       "    <tr>\n",
       "      <th>3</th>\n",
       "      <td>Atypical Antipsychotics</td>\n",
       "      <td>1120.0</td>\n",
       "      <td>DAE-FF</td>\n",
       "      <td>145</td>\n",
       "    </tr>\n",
       "    <tr>\n",
       "      <th>4</th>\n",
       "      <td>Beta Blockers</td>\n",
       "      <td>2072.0</td>\n",
       "      <td>DAE-FF</td>\n",
       "      <td>313</td>\n",
       "    </tr>\n",
       "  </tbody>\n",
       "</table>\n",
       "</div>"
      ],
      "text/plain": [
       "               Datset name  Dataset size Model name Training time [s]\n",
       "0            ACEInhibitors        2544.0     DAE-FF               400\n",
       "1                     ADHD         851.0     DAE-FF               102\n",
       "2           Antihistamines         310.0     DAE-FF                37\n",
       "3  Atypical Antipsychotics        1120.0     DAE-FF               145\n",
       "4            Beta Blockers        2072.0     DAE-FF               313"
      ]
     },
     "execution_count": 6,
     "metadata": {},
     "output_type": "execute_result"
    }
   ],
   "source": [
    "time_df.head()"
   ]
  },
  {
   "cell_type": "code",
   "execution_count": 7,
   "id": "stretch-pakistan",
   "metadata": {},
   "outputs": [],
   "source": [
    "time_df['Training time [s]'] = time_df['Training time [s]'].astype(float)"
   ]
  },
  {
   "cell_type": "code",
   "execution_count": 8,
   "id": "wrong-exhibit",
   "metadata": {},
   "outputs": [
    {
     "data": {
      "image/png": "[encoded data removed]",
      "text/plain": [
       "<Figure size 576x432 with 1 Axes>"
      ]
     },
     "metadata": {
      "needs_background": "light"
     },
     "output_type": "display_data"
    }
   ],
   "source": [
    "f, ax = plt.subplots(figsize=(8, 6))\n",
    "ax.set(xscale=\"log\", yscale=\"log\")\n",
    "# sns.set_style(\"ticks\")\n",
    "\n",
    "g= sns.scatterplot(x=\"Dataset size\", y=\"Training time [s]\", hue=\"Model name\", style=\"Model name\", data=time_df, ax=ax)\n",
    "\n",
    "# plt.savefig('train_time.jpg', format='jpeg', dpi=150)"
   ]
  },
  {
   "cell_type": "markdown",
   "id": "absolute-silver",
   "metadata": {},
   "source": [
    "# Plot model performance based on used inout features"
   ]
  },
  {
   "cell_type": "code",
   "execution_count": 9,
   "id": "sustained-prisoner",
   "metadata": {},
   "outputs": [
    {
     "data": {
      "text/html": [
       "<div>\n",
       "<style scoped>\n",
       "    .dataframe tbody tr th:only-of-type {\n",
       "        vertical-align: middle;\n",
       "    }\n",
       "\n",
       "    .dataframe tbody tr th {\n",
       "        vertical-align: top;\n",
       "    }\n",
       "\n",
       "    .dataframe thead th {\n",
       "        text-align: right;\n",
       "    }\n",
       "</style>\n",
       "<table border=\"1\" class=\"dataframe\">\n",
       "  <thead>\n",
       "    <tr style=\"text-align: right;\">\n",
       "      <th></th>\n",
       "      <th>Model</th>\n",
       "      <th>Features</th>\n",
       "      <th>ACEInhibitors</th>\n",
       "      <th>ADHD</th>\n",
       "      <th>Antihistamines</th>\n",
       "      <th>Atypical Antipsychotics</th>\n",
       "      <th>Beta Blockers</th>\n",
       "      <th>Calcium Channel Blockers</th>\n",
       "      <th>Estrogens</th>\n",
       "      <th>NSAIDs</th>\n",
       "      <th>...</th>\n",
       "      <th>Skeletal Muscle Relaxants</th>\n",
       "      <th>Statins</th>\n",
       "      <th>Triptans</th>\n",
       "      <th>Urinary Incontinence</th>\n",
       "      <th>COPD</th>\n",
       "      <th>Proton Beam</th>\n",
       "      <th>Micro Nutrients</th>\n",
       "      <th>PFOA/PFOS</th>\n",
       "      <th>Bisphenol A (BPA)</th>\n",
       "      <th>Fluoride and neurotoxicity</th>\n",
       "    </tr>\n",
       "  </thead>\n",
       "  <tbody>\n",
       "    <tr>\n",
       "      <th>0</th>\n",
       "      <td>DAE-FF</td>\n",
       "      <td>All features</td>\n",
       "      <td>0.785</td>\n",
       "      <td>0.639</td>\n",
       "      <td>0.275</td>\n",
       "      <td>0.190</td>\n",
       "      <td>0.462</td>\n",
       "      <td>0.347</td>\n",
       "      <td>0.369</td>\n",
       "      <td>0.735</td>\n",
       "      <td>...</td>\n",
       "      <td>0.286</td>\n",
       "      <td>0.487</td>\n",
       "      <td>0.412</td>\n",
       "      <td>0.483</td>\n",
       "      <td>0.665</td>\n",
       "      <td>0.812</td>\n",
       "      <td>0.663</td>\n",
       "      <td>0.713</td>\n",
       "      <td>0.780</td>\n",
       "      <td>0.806</td>\n",
       "    </tr>\n",
       "    <tr>\n",
       "      <th>1</th>\n",
       "      <td>DAE-FF</td>\n",
       "      <td>Title and Abstract</td>\n",
       "      <td>0.709</td>\n",
       "      <td>0.500</td>\n",
       "      <td>0.168</td>\n",
       "      <td>0.221</td>\n",
       "      <td>0.451</td>\n",
       "      <td>0.337</td>\n",
       "      <td>0.358</td>\n",
       "      <td>0.679</td>\n",
       "      <td>...</td>\n",
       "      <td>0.327</td>\n",
       "      <td>0.434</td>\n",
       "      <td>0.253</td>\n",
       "      <td>0.531</td>\n",
       "      <td>0.665</td>\n",
       "      <td>0.810</td>\n",
       "      <td>0.648</td>\n",
       "      <td>0.839</td>\n",
       "      <td>0.754</td>\n",
       "      <td>0.838</td>\n",
       "    </tr>\n",
       "    <tr>\n",
       "      <th>2</th>\n",
       "      <td>DAE-FF</td>\n",
       "      <td>Abstract only</td>\n",
       "      <td>0.658</td>\n",
       "      <td>0.404</td>\n",
       "      <td>0.265</td>\n",
       "      <td>0.230</td>\n",
       "      <td>0.390</td>\n",
       "      <td>0.297</td>\n",
       "      <td>0.331</td>\n",
       "      <td>0.690</td>\n",
       "      <td>...</td>\n",
       "      <td>0.430</td>\n",
       "      <td>0.392</td>\n",
       "      <td>0.320</td>\n",
       "      <td>0.482</td>\n",
       "      <td>0.676</td>\n",
       "      <td>0.790</td>\n",
       "      <td>0.665</td>\n",
       "      <td>0.847</td>\n",
       "      <td>0.715</td>\n",
       "      <td>0.758</td>\n",
       "    </tr>\n",
       "    <tr>\n",
       "      <th>3</th>\n",
       "      <td>DAE-FF</td>\n",
       "      <td>Title only</td>\n",
       "      <td>0.806</td>\n",
       "      <td>0.651</td>\n",
       "      <td>0.016</td>\n",
       "      <td>0.046</td>\n",
       "      <td>0.408</td>\n",
       "      <td>0.137</td>\n",
       "      <td>0.145</td>\n",
       "      <td>0.658</td>\n",
       "      <td>...</td>\n",
       "      <td>0.125</td>\n",
       "      <td>0.255</td>\n",
       "      <td>0.199</td>\n",
       "      <td>0.372</td>\n",
       "      <td>0.677</td>\n",
       "      <td>0.799</td>\n",
       "      <td>0.677</td>\n",
       "      <td>0.696</td>\n",
       "      <td>0.631</td>\n",
       "      <td>0.726</td>\n",
       "    </tr>\n",
       "    <tr>\n",
       "      <th>4</th>\n",
       "      <td>Multi-Channel CNN</td>\n",
       "      <td>All features</td>\n",
       "      <td>0.367</td>\n",
       "      <td>0.704</td>\n",
       "      <td>0.135</td>\n",
       "      <td>0.081</td>\n",
       "      <td>0.399</td>\n",
       "      <td>0.069</td>\n",
       "      <td>0.083</td>\n",
       "      <td>0.601</td>\n",
       "      <td>...</td>\n",
       "      <td>0.300</td>\n",
       "      <td>0.283</td>\n",
       "      <td>0.440</td>\n",
       "      <td>0.180</td>\n",
       "      <td>0.128</td>\n",
       "      <td>0.357</td>\n",
       "      <td>0.199</td>\n",
       "      <td>0.305</td>\n",
       "      <td>0.369</td>\n",
       "      <td>0.808</td>\n",
       "    </tr>\n",
       "  </tbody>\n",
       "</table>\n",
       "<p>5 rows × 23 columns</p>\n",
       "</div>"
      ],
      "text/plain": [
       "               Model            Features  ACEInhibitors   ADHD  \\\n",
       "0             DAE-FF        All features          0.785  0.639   \n",
       "1             DAE-FF  Title and Abstract          0.709  0.500   \n",
       "2             DAE-FF       Abstract only          0.658  0.404   \n",
       "3             DAE-FF          Title only          0.806  0.651   \n",
       "4  Multi-Channel CNN        All features          0.367  0.704   \n",
       "\n",
       "   Antihistamines  Atypical Antipsychotics  Beta Blockers  \\\n",
       "0           0.275                    0.190          0.462   \n",
       "1           0.168                    0.221          0.451   \n",
       "2           0.265                    0.230          0.390   \n",
       "3           0.016                    0.046          0.408   \n",
       "4           0.135                    0.081          0.399   \n",
       "\n",
       "   Calcium Channel Blockers  Estrogens  NSAIDs  ...  \\\n",
       "0                     0.347      0.369   0.735  ...   \n",
       "1                     0.337      0.358   0.679  ...   \n",
       "2                     0.297      0.331   0.690  ...   \n",
       "3                     0.137      0.145   0.658  ...   \n",
       "4                     0.069      0.083   0.601  ...   \n",
       "\n",
       "   Skeletal Muscle Relaxants  Statins  Triptans  Urinary Incontinence  COPD   \\\n",
       "0                      0.286    0.487     0.412                 0.483  0.665   \n",
       "1                      0.327    0.434     0.253                 0.531  0.665   \n",
       "2                      0.430    0.392     0.320                 0.482  0.676   \n",
       "3                      0.125    0.255     0.199                 0.372  0.677   \n",
       "4                      0.300    0.283     0.440                 0.180  0.128   \n",
       "\n",
       "   Proton Beam  Micro Nutrients   PFOA/PFOS  Bisphenol A (BPA)   \\\n",
       "0        0.812             0.663      0.713               0.780   \n",
       "1        0.810             0.648      0.839               0.754   \n",
       "2        0.790             0.665      0.847               0.715   \n",
       "3        0.799             0.677      0.696               0.631   \n",
       "4        0.357             0.199      0.305               0.369   \n",
       "\n",
       "   Fluoride and neurotoxicity  \n",
       "0                       0.806  \n",
       "1                       0.838  \n",
       "2                       0.758  \n",
       "3                       0.726  \n",
       "4                       0.808  \n",
       "\n",
       "[5 rows x 23 columns]"
      ]
     },
     "execution_count": 9,
     "metadata": {},
     "output_type": "execute_result"
    }
   ],
   "source": [
    "df1 = pd.read_csv(\"../reports/results-document_features.csv\")\n",
    "df1.head()"
   ]
  },
  {
   "cell_type": "code",
   "execution_count": 10,
   "id": "sealed-harvard",
   "metadata": {},
   "outputs": [
    {
     "data": {
      "text/html": [
       "<div>\n",
       "<style scoped>\n",
       "    .dataframe tbody tr th:only-of-type {\n",
       "        vertical-align: middle;\n",
       "    }\n",
       "\n",
       "    .dataframe tbody tr th {\n",
       "        vertical-align: top;\n",
       "    }\n",
       "\n",
       "    .dataframe thead th {\n",
       "        text-align: right;\n",
       "    }\n",
       "</style>\n",
       "<table border=\"1\" class=\"dataframe\">\n",
       "  <thead>\n",
       "    <tr style=\"text-align: right;\">\n",
       "      <th></th>\n",
       "      <th>Features</th>\n",
       "      <th>ACEInhibitors</th>\n",
       "      <th>ADHD</th>\n",
       "      <th>Antihistamines</th>\n",
       "      <th>Atypical Antipsychotics</th>\n",
       "      <th>Beta Blockers</th>\n",
       "      <th>Calcium Channel Blockers</th>\n",
       "      <th>Estrogens</th>\n",
       "      <th>NSAIDs</th>\n",
       "      <th>Opioids</th>\n",
       "      <th>...</th>\n",
       "      <th>Skeletal Muscle Relaxants</th>\n",
       "      <th>Statins</th>\n",
       "      <th>Triptans</th>\n",
       "      <th>Urinary Incontinence</th>\n",
       "      <th>COPD</th>\n",
       "      <th>Proton Beam</th>\n",
       "      <th>Micro Nutrients</th>\n",
       "      <th>PFOA/PFOS</th>\n",
       "      <th>Bisphenol A (BPA)</th>\n",
       "      <th>Fluoride and neurotoxicity</th>\n",
       "    </tr>\n",
       "    <tr>\n",
       "      <th>Model</th>\n",
       "      <th></th>\n",
       "      <th></th>\n",
       "      <th></th>\n",
       "      <th></th>\n",
       "      <th></th>\n",
       "      <th></th>\n",
       "      <th></th>\n",
       "      <th></th>\n",
       "      <th></th>\n",
       "      <th></th>\n",
       "      <th></th>\n",
       "      <th></th>\n",
       "      <th></th>\n",
       "      <th></th>\n",
       "      <th></th>\n",
       "      <th></th>\n",
       "      <th></th>\n",
       "      <th></th>\n",
       "      <th></th>\n",
       "      <th></th>\n",
       "      <th></th>\n",
       "    </tr>\n",
       "  </thead>\n",
       "  <tbody>\n",
       "    <tr>\n",
       "      <th>DAE-FF</th>\n",
       "      <td>Title only</td>\n",
       "      <td>0.806</td>\n",
       "      <td>0.651</td>\n",
       "      <td>0.275</td>\n",
       "      <td>0.230</td>\n",
       "      <td>0.462</td>\n",
       "      <td>0.347</td>\n",
       "      <td>0.369</td>\n",
       "      <td>0.735</td>\n",
       "      <td>0.580</td>\n",
       "      <td>...</td>\n",
       "      <td>0.430</td>\n",
       "      <td>0.487</td>\n",
       "      <td>0.412</td>\n",
       "      <td>0.531</td>\n",
       "      <td>0.677</td>\n",
       "      <td>0.812</td>\n",
       "      <td>0.677</td>\n",
       "      <td>0.847</td>\n",
       "      <td>0.780</td>\n",
       "      <td>0.838</td>\n",
       "    </tr>\n",
       "    <tr>\n",
       "      <th>Multi-Channel CNN</th>\n",
       "      <td>Title only</td>\n",
       "      <td>0.648</td>\n",
       "      <td>0.704</td>\n",
       "      <td>0.204</td>\n",
       "      <td>0.086</td>\n",
       "      <td>0.399</td>\n",
       "      <td>0.117</td>\n",
       "      <td>0.092</td>\n",
       "      <td>0.601</td>\n",
       "      <td>0.420</td>\n",
       "      <td>...</td>\n",
       "      <td>0.329</td>\n",
       "      <td>0.283</td>\n",
       "      <td>0.440</td>\n",
       "      <td>0.180</td>\n",
       "      <td>0.372</td>\n",
       "      <td>0.559</td>\n",
       "      <td>0.268</td>\n",
       "      <td>0.405</td>\n",
       "      <td>0.612</td>\n",
       "      <td>0.808</td>\n",
       "    </tr>\n",
       "    <tr>\n",
       "      <th>fastText classifier</th>\n",
       "      <td>Title only</td>\n",
       "      <td>0.783</td>\n",
       "      <td>0.470</td>\n",
       "      <td>0.192</td>\n",
       "      <td>0.218</td>\n",
       "      <td>0.419</td>\n",
       "      <td>0.244</td>\n",
       "      <td>0.306</td>\n",
       "      <td>0.620</td>\n",
       "      <td>0.559</td>\n",
       "      <td>...</td>\n",
       "      <td>0.210</td>\n",
       "      <td>0.409</td>\n",
       "      <td>0.211</td>\n",
       "      <td>0.439</td>\n",
       "      <td>0.553</td>\n",
       "      <td>0.771</td>\n",
       "      <td>0.608</td>\n",
       "      <td>0.796</td>\n",
       "      <td>0.637</td>\n",
       "      <td>0.390</td>\n",
       "    </tr>\n",
       "  </tbody>\n",
       "</table>\n",
       "<p>3 rows × 22 columns</p>\n",
       "</div>"
      ],
      "text/plain": [
       "                       Features  ACEInhibitors   ADHD  Antihistamines  \\\n",
       "Model                                                                   \n",
       "DAE-FF               Title only          0.806  0.651           0.275   \n",
       "Multi-Channel CNN    Title only          0.648  0.704           0.204   \n",
       "fastText classifier  Title only          0.783  0.470           0.192   \n",
       "\n",
       "                     Atypical Antipsychotics  Beta Blockers  \\\n",
       "Model                                                         \n",
       "DAE-FF                                 0.230          0.462   \n",
       "Multi-Channel CNN                      0.086          0.399   \n",
       "fastText classifier                    0.218          0.419   \n",
       "\n",
       "                     Calcium Channel Blockers  Estrogens  NSAIDs  Opioids  \\\n",
       "Model                                                                       \n",
       "DAE-FF                                  0.347      0.369   0.735    0.580   \n",
       "Multi-Channel CNN                       0.117      0.092   0.601    0.420   \n",
       "fastText classifier                     0.244      0.306   0.620    0.559   \n",
       "\n",
       "                     ...  Skeletal Muscle Relaxants  Statins  Triptans  \\\n",
       "Model                ...                                                 \n",
       "DAE-FF               ...                      0.430    0.487     0.412   \n",
       "Multi-Channel CNN    ...                      0.329    0.283     0.440   \n",
       "fastText classifier  ...                      0.210    0.409     0.211   \n",
       "\n",
       "                     Urinary Incontinence  COPD   Proton Beam  \\\n",
       "Model                                                           \n",
       "DAE-FF                              0.531  0.677        0.812   \n",
       "Multi-Channel CNN                   0.180  0.372        0.559   \n",
       "fastText classifier                 0.439  0.553        0.771   \n",
       "\n",
       "                     Micro Nutrients   PFOA/PFOS  Bisphenol A (BPA)   \\\n",
       "Model                                                                  \n",
       "DAE-FF                          0.677      0.847               0.780   \n",
       "Multi-Channel CNN               0.268      0.405               0.612   \n",
       "fastText classifier             0.608      0.796               0.637   \n",
       "\n",
       "                     Fluoride and neurotoxicity  \n",
       "Model                                            \n",
       "DAE-FF                                    0.838  \n",
       "Multi-Channel CNN                         0.808  \n",
       "fastText classifier                       0.390  \n",
       "\n",
       "[3 rows x 22 columns]"
      ]
     },
     "execution_count": 10,
     "metadata": {},
     "output_type": "execute_result"
    }
   ],
   "source": [
    "df1.groupby(\"Model\").max()"
   ]
  },
  {
   "cell_type": "code",
   "execution_count": 11,
   "id": "accurate-nightlife",
   "metadata": {},
   "outputs": [],
   "source": [
    "features_df = df1.melt(id_vars=['Model', 'Features'], value_vars=df1.columns[2:])"
   ]
  },
  {
   "cell_type": "code",
   "execution_count": 12,
   "id": "incorporated-phase",
   "metadata": {},
   "outputs": [
    {
     "data": {
      "text/html": [
       "<div>\n",
       "<style scoped>\n",
       "    .dataframe tbody tr th:only-of-type {\n",
       "        vertical-align: middle;\n",
       "    }\n",
       "\n",
       "    .dataframe tbody tr th {\n",
       "        vertical-align: top;\n",
       "    }\n",
       "\n",
       "    .dataframe thead th {\n",
       "        text-align: right;\n",
       "    }\n",
       "</style>\n",
       "<table border=\"1\" class=\"dataframe\">\n",
       "  <thead>\n",
       "    <tr style=\"text-align: right;\">\n",
       "      <th></th>\n",
       "      <th>Model</th>\n",
       "      <th>Features</th>\n",
       "      <th>variable</th>\n",
       "      <th>value</th>\n",
       "    </tr>\n",
       "  </thead>\n",
       "  <tbody>\n",
       "    <tr>\n",
       "      <th>0</th>\n",
       "      <td>DAE-FF</td>\n",
       "      <td>All features</td>\n",
       "      <td>ACEInhibitors</td>\n",
       "      <td>0.785</td>\n",
       "    </tr>\n",
       "    <tr>\n",
       "      <th>1</th>\n",
       "      <td>DAE-FF</td>\n",
       "      <td>Title and Abstract</td>\n",
       "      <td>ACEInhibitors</td>\n",
       "      <td>0.709</td>\n",
       "    </tr>\n",
       "    <tr>\n",
       "      <th>2</th>\n",
       "      <td>DAE-FF</td>\n",
       "      <td>Abstract only</td>\n",
       "      <td>ACEInhibitors</td>\n",
       "      <td>0.658</td>\n",
       "    </tr>\n",
       "    <tr>\n",
       "      <th>3</th>\n",
       "      <td>DAE-FF</td>\n",
       "      <td>Title only</td>\n",
       "      <td>ACEInhibitors</td>\n",
       "      <td>0.806</td>\n",
       "    </tr>\n",
       "    <tr>\n",
       "      <th>4</th>\n",
       "      <td>Multi-Channel CNN</td>\n",
       "      <td>All features</td>\n",
       "      <td>ACEInhibitors</td>\n",
       "      <td>0.367</td>\n",
       "    </tr>\n",
       "  </tbody>\n",
       "</table>\n",
       "</div>"
      ],
      "text/plain": [
       "               Model            Features       variable  value\n",
       "0             DAE-FF        All features  ACEInhibitors  0.785\n",
       "1             DAE-FF  Title and Abstract  ACEInhibitors  0.709\n",
       "2             DAE-FF       Abstract only  ACEInhibitors  0.658\n",
       "3             DAE-FF          Title only  ACEInhibitors  0.806\n",
       "4  Multi-Channel CNN        All features  ACEInhibitors  0.367"
      ]
     },
     "execution_count": 12,
     "metadata": {},
     "output_type": "execute_result"
    }
   ],
   "source": [
    "features_df.head()"
   ]
  },
  {
   "cell_type": "code",
   "execution_count": 13,
   "id": "wicked-guinea",
   "metadata": {},
   "outputs": [],
   "source": [
    "idmax_list = features_df.groupby([\"variable\", \"Model\"]).apply(lambda df1:df1['value'].idxmax()).tolist()"
   ]
  },
  {
   "cell_type": "code",
   "execution_count": 14,
   "id": "handed-royal",
   "metadata": {},
   "outputs": [],
   "source": [
    "max_df = features_df.iloc[idmax_list]"
   ]
  },
  {
   "cell_type": "code",
   "execution_count": 15,
   "id": "level-entry",
   "metadata": {},
   "outputs": [
    {
     "data": {
      "text/html": [
       "<div>\n",
       "<style scoped>\n",
       "    .dataframe tbody tr th:only-of-type {\n",
       "        vertical-align: middle;\n",
       "    }\n",
       "\n",
       "    .dataframe tbody tr th {\n",
       "        vertical-align: top;\n",
       "    }\n",
       "\n",
       "    .dataframe thead th {\n",
       "        text-align: right;\n",
       "    }\n",
       "</style>\n",
       "<table border=\"1\" class=\"dataframe\">\n",
       "  <thead>\n",
       "    <tr style=\"text-align: right;\">\n",
       "      <th></th>\n",
       "      <th>Model</th>\n",
       "      <th>Features</th>\n",
       "      <th>variable</th>\n",
       "      <th>value</th>\n",
       "    </tr>\n",
       "  </thead>\n",
       "  <tbody>\n",
       "    <tr>\n",
       "      <th>3</th>\n",
       "      <td>DAE-FF</td>\n",
       "      <td>Title only</td>\n",
       "      <td>ACEInhibitors</td>\n",
       "      <td>0.806</td>\n",
       "    </tr>\n",
       "    <tr>\n",
       "      <th>6</th>\n",
       "      <td>Multi-Channel CNN</td>\n",
       "      <td>Abstract only</td>\n",
       "      <td>ACEInhibitors</td>\n",
       "      <td>0.648</td>\n",
       "    </tr>\n",
       "    <tr>\n",
       "      <th>8</th>\n",
       "      <td>fastText classifier</td>\n",
       "      <td>All features</td>\n",
       "      <td>ACEInhibitors</td>\n",
       "      <td>0.783</td>\n",
       "    </tr>\n",
       "    <tr>\n",
       "      <th>15</th>\n",
       "      <td>DAE-FF</td>\n",
       "      <td>Title only</td>\n",
       "      <td>ADHD</td>\n",
       "      <td>0.651</td>\n",
       "    </tr>\n",
       "    <tr>\n",
       "      <th>16</th>\n",
       "      <td>Multi-Channel CNN</td>\n",
       "      <td>All features</td>\n",
       "      <td>ADHD</td>\n",
       "      <td>0.704</td>\n",
       "    </tr>\n",
       "  </tbody>\n",
       "</table>\n",
       "</div>"
      ],
      "text/plain": [
       "                  Model       Features       variable  value\n",
       "3                DAE-FF     Title only  ACEInhibitors  0.806\n",
       "6     Multi-Channel CNN  Abstract only  ACEInhibitors  0.648\n",
       "8   fastText classifier   All features  ACEInhibitors  0.783\n",
       "15               DAE-FF     Title only           ADHD  0.651\n",
       "16    Multi-Channel CNN   All features           ADHD  0.704"
      ]
     },
     "execution_count": 15,
     "metadata": {},
     "output_type": "execute_result"
    }
   ],
   "source": [
    "max_df.head()"
   ]
  },
  {
   "cell_type": "code",
   "execution_count": 16,
   "id": "legislative-editing",
   "metadata": {},
   "outputs": [],
   "source": [
    "feat_model_df = max_df.groupby([\"Features\", \"Model\"]).count()['value']"
   ]
  },
  {
   "cell_type": "code",
   "execution_count": 17,
   "id": "recent-fundamentals",
   "metadata": {},
   "outputs": [
    {
     "data": {
      "text/html": [
       "<div>\n",
       "<style scoped>\n",
       "    .dataframe tbody tr th:only-of-type {\n",
       "        vertical-align: middle;\n",
       "    }\n",
       "\n",
       "    .dataframe tbody tr th {\n",
       "        vertical-align: top;\n",
       "    }\n",
       "\n",
       "    .dataframe thead th {\n",
       "        text-align: right;\n",
       "    }\n",
       "</style>\n",
       "<table border=\"1\" class=\"dataframe\">\n",
       "  <thead>\n",
       "    <tr style=\"text-align: right;\">\n",
       "      <th></th>\n",
       "      <th>Features</th>\n",
       "      <th>Model</th>\n",
       "      <th>value</th>\n",
       "    </tr>\n",
       "  </thead>\n",
       "  <tbody>\n",
       "    <tr>\n",
       "      <th>0</th>\n",
       "      <td>Abstract only</td>\n",
       "      <td>DAE-FF</td>\n",
       "      <td>3</td>\n",
       "    </tr>\n",
       "    <tr>\n",
       "      <th>1</th>\n",
       "      <td>Abstract only</td>\n",
       "      <td>Multi-Channel CNN</td>\n",
       "      <td>2</td>\n",
       "    </tr>\n",
       "    <tr>\n",
       "      <th>2</th>\n",
       "      <td>Abstract only</td>\n",
       "      <td>fastText classifier</td>\n",
       "      <td>2</td>\n",
       "    </tr>\n",
       "    <tr>\n",
       "      <th>3</th>\n",
       "      <td>All features</td>\n",
       "      <td>DAE-FF</td>\n",
       "      <td>11</td>\n",
       "    </tr>\n",
       "    <tr>\n",
       "      <th>4</th>\n",
       "      <td>All features</td>\n",
       "      <td>Multi-Channel CNN</td>\n",
       "      <td>8</td>\n",
       "    </tr>\n",
       "  </tbody>\n",
       "</table>\n",
       "</div>"
      ],
      "text/plain": [
       "        Features                Model  value\n",
       "0  Abstract only               DAE-FF      3\n",
       "1  Abstract only    Multi-Channel CNN      2\n",
       "2  Abstract only  fastText classifier      2\n",
       "3   All features               DAE-FF     11\n",
       "4   All features    Multi-Channel CNN      8"
      ]
     },
     "execution_count": 17,
     "metadata": {},
     "output_type": "execute_result"
    }
   ],
   "source": [
    "feat_model_df.reset_index().head()"
   ]
  },
  {
   "cell_type": "code",
   "execution_count": 18,
   "id": "impressed-jewel",
   "metadata": {},
   "outputs": [
    {
     "data": {
      "image/png": "[encoded data removed]",
      "text/plain": [
       "<Figure size 432x288 with 1 Axes>"
      ]
     },
     "metadata": {
      "needs_background": "light"
     },
     "output_type": "display_data"
    }
   ],
   "source": [
    "s2 = sns.barplot(x = 'Features', y = 'value', hue=\"Model\", data = feat_model_df.reset_index())"
   ]
  },
  {
   "cell_type": "code",
   "execution_count": 19,
   "id": "julian-visiting",
   "metadata": {},
   "outputs": [
    {
     "data": {
      "text/plain": [
       "Features\n",
       "Abstract only         0.111111\n",
       "All features          0.492063\n",
       "Title and Abstract    0.206349\n",
       "Title only            0.190476\n",
       "Name: value, dtype: float64"
      ]
     },
     "execution_count": 19,
     "metadata": {},
     "output_type": "execute_result"
    }
   ],
   "source": [
    "feat_model_df.groupby(\"Features\").sum()/feat_model_df.sum()"
   ]
  },
  {
   "cell_type": "code",
   "execution_count": 20,
   "id": "divine-success",
   "metadata": {},
   "outputs": [
    {
     "data": {
      "image/png": "[encoded data removed]",
      "text/plain": [
       "<Figure size 576x288 with 1 Axes>"
      ]
     },
     "metadata": {
      "needs_background": "light"
     },
     "output_type": "display_data"
    }
   ],
   "source": [
    "f, ax = plt.subplots(figsize=(8, 4))\n",
    "\n",
    "\n",
    "ax = sns.histplot(feat_model_df.reset_index(), x='Features', hue='Model', weights='value',\n",
    "             multiple='stack', palette='tab20c', shrink=0.8)\n",
    "legend = ax.get_legend()\n",
    "legend.set_bbox_to_anchor((1, 1))\n",
    "\n",
    "\n",
    "# plt.savefig('features.jpg', format='jpeg', dpi=150)"
   ]
  },
  {
   "cell_type": "markdown",
   "id": "forbidden-bangladesh",
   "metadata": {},
   "source": [
    "# Plot box plots of model performance"
   ]
  },
  {
   "cell_type": "code",
   "execution_count": 21,
   "id": "moral-supply",
   "metadata": {},
   "outputs": [],
   "source": [
    "scores_dict = {}"
   ]
  },
  {
   "cell_type": "code",
   "execution_count": 22,
   "id": "71251b3a",
   "metadata": {
    "pycharm": {
     "name": "#%%\n"
    }
   },
   "outputs": [],
   "source": [
    "ft_adhd = [0.30446009389671363, 0.6213615023474178, 0.4053990610328639, 0.5626760563380281, 0.6025821596244131, 0.597887323943662, 0.47112676056338026, 0.3561032863849765, 0.45234741784037563, 0.3279342723004695]\n",
    "dae_adhd = [0.7927230046948356, 0.24577464788732395, 0.6401408450704225, 0.31854460093896714, 0.30446009389671363, 0.7692488262910797, 0.3232394366197183, 0.2575117370892019, 0.6706572769953051, 0.5204225352112676]\n",
    "cnn_adhd = [0.795774638652802,0.381176471710205,0.211267605423927,0.809411764144897, 0.823943674564362, 0.272941172122955, 0.319248825311661, 0.809411764144897, 0.237089201807976, 0.832941174507141, 0.241784036159515, 0.818823516368866, 0.424882620573044, 0.882352948188782, 0.638497650623322, 0.835294127464294, 0.16666667163372, 0.851764678955078, 0.227699533104896, 0.84235292673111, ]"
   ]
  },
  {
   "cell_type": "code",
   "execution_count": 23,
   "id": "regional-smile",
   "metadata": {},
   "outputs": [],
   "source": [
    "scores_dict['ADHD'] = pd.DataFrame([ft_adhd, dae_adhd, cnn_adhd]).T"
   ]
  },
  {
   "cell_type": "code",
   "execution_count": 24,
   "id": "moved-client",
   "metadata": {},
   "outputs": [],
   "source": [
    "ft_pb = [0.7698653198653198, 0.7774410774410774, 0.7909090909090909, 0.7353535353535353, 0.7669191919191919, 0.7526094276094276, 0.7593434343434343, 0.7484006734006734, 0.7336700336700336, 0.771969696969697]\n",
    "dae_pb = [0.8052188552188552, 0.806060606060606, 0.8266835016835017, 0.8178451178451178, 0.8026936026936027, 0.8132154882154882, 0.8031144781144781, 0.8031144781144781, 0.7976430976430976, 0.8241582491582491]\n",
    "cnn_pb = [0.428451180458069, 0.599578976631165, 0.287878781557083, 0.575157880783081, 0.367003381252289, 0.53473687171936, 0.556818187236786, 0.475789487361908, 0.534932672977448, 0.280000001192093, 0.406144767999649, 0.533052623271942, 0.42676767706871, 0.508631587028503, 0.375841736793518, 0.445894747972488, 0.720959603786469, 0.535157918930054, 0.470117837190628, 0.721684217453003]"
   ]
  },
  {
   "cell_type": "code",
   "execution_count": 25,
   "id": "similar-physiology",
   "metadata": {
    "pycharm": {
     "name": "#%%\n"
    }
   },
   "outputs": [],
   "source": [
    "scores_dict['Proton Beam'] = pd.DataFrame([ft_pb, dae_pb, cnn_pb]).T"
   ]
  },
  {
   "cell_type": "code",
   "execution_count": 26,
   "id": "55fcdef6",
   "metadata": {
    "pycharm": {
     "name": "#%%\n"
    }
   },
   "outputs": [
    {
     "data": {
      "image/png": "[encoded data removed]",
      "text/plain": [
       "<Figure size 432x288 with 1 Axes>"
      ]
     },
     "metadata": {
      "needs_background": "light"
     },
     "output_type": "display_data"
    },
    {
     "data": {
      "image/png": "[encoded data removed]",
      "text/plain": [
       "<Figure size 432x288 with 1 Axes>"
      ]
     },
     "metadata": {
      "needs_background": "light"
     },
     "output_type": "display_data"
    }
   ],
   "source": [
    "for dataset_name, score_df in scores_dict.items():\n",
    "    score_df.columns = [\"fastText classifier\", \"DAE-FF\", \"Multi-Channel CNN\"]\n",
    "    score_df = score_df.stack().reset_index()\n",
    "    score_df.columns = ['a', 'Model', \"WSS@95% Score\"]\n",
    "\n",
    "    f, ax = plt.subplots(figsize=(6, 4))\n",
    "    sns.boxplot(x=\"Model\", y=\"WSS@95% Score\", data=score_df)\n",
    "    ax.set_title(dataset_name)\n",
    "\n",
    "#     plt.savefig(f'boxplot-{dataset_name}.jpg', format='jpeg', dpi=150)"
   ]
  },
  {
   "cell_type": "code",
   "execution_count": null,
   "id": "90272ad7",
   "metadata": {
    "pycharm": {
     "name": "#%%\n"
    }
   },
   "outputs": [],
   "source": []
  }
 ],
 "metadata": {
  "kernelspec": {
   "display_name": "Python 3 (ipykernel)",
   "language": "python",
   "name": "python3"
  },
  "language_info": {
   "codemirror_mode": {
    "name": "ipython",
    "version": 3
   },
   "file_extension": ".py",
   "mimetype": "text/x-python",
   "name": "python",
   "nbconvert_exporter": "python",
   "pygments_lexer": "ipython3",
   "version": "3.8.12"
  }
 },
 "nbformat": 4,
 "nbformat_minor": 5
}
